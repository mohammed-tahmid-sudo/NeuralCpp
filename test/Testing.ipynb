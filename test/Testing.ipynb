{
 "cells": [
  {
   "cell_type": "code",
   "execution_count": 2,
   "id": "6cb4af2b",
   "metadata": {},
   "outputs": [],
   "source": [
    "import numpy as np"
   ]
  },
  {
   "cell_type": "code",
   "execution_count": 23,
   "id": "73687164",
   "metadata": {},
   "outputs": [],
   "source": [
    "weights = np.array(0)\n",
    "bias = np.array(0)\n",
    "inputs = np.array([2345,2345,2345,2435,234,52,345,2345,2354])"
   ]
  },
  {
   "cell_type": "code",
   "execution_count": 14,
   "id": "a1a06ed3",
   "metadata": {},
   "outputs": [],
   "source": [
    "def single_neuron(inp, weights, bias):\n",
    "    sm = 0\n",
    "    for x in range(len(inp)):\n",
    "        sm += inp[x] * weights[x]\n",
    "    return sm + bias"
   ]
  },
  {
   "cell_type": "code",
   "execution_count": 25,
   "id": "29ff291b-32a1-43c3-91ea-105760a2f994",
   "metadata": {},
   "outputs": [],
   "source": [
    "def dence_layer(inputs, in_features, out_features):\n",
    "    weights = np.random.rand(in_features, out_features) - 0.5\n",
    "    bias = np.random.rand(out_features) - 0.5\n",
    "    output = np.dot(inputs, weights) + bias\n",
    "    return output"
   ]
  },
  {
   "cell_type": "code",
   "execution_count": 34,
   "id": "d6405b5e-42f0-4fd8-a704-9d21f150dad5",
   "metadata": {},
   "outputs": [],
   "source": [
    "def ReLU(inp):\n",
    "    inpt if inp > 0 else 0"
   ]
  },
  {
   "cell_type": "code",
   "execution_count": 36,
   "id": "9d31e060-1619-43ac-aef6-08bd425cf1cb",
   "metadata": {},
   "outputs": [],
   "source": [
    "def Cross_entropy_loss(y_preds, y_true):\n",
    "    return -np.sum(y_true,np.log(y_preds))"
   ]
  },
  {
   "cell_type": "code",
   "execution_count": null,
   "id": "f96762e5-58a6-4627-8387-8d9a90355059",
   "metadata": {},
   "outputs": [],
   "source": []
  }
 ],
 "metadata": {
  "kernelspec": {
   "display_name": "Python 3 (ipykernel)",
   "language": "python",
   "name": "python3"
  },
  "language_info": {
   "codemirror_mode": {
    "name": "ipython",
    "version": 3
   },
   "file_extension": ".py",
   "mimetype": "text/x-python",
   "name": "python",
   "nbconvert_exporter": "python",
   "pygments_lexer": "ipython3",
   "version": "3.12.3"
  }
 },
 "nbformat": 4,
 "nbformat_minor": 5
}
